{
 "cells": [
  {
   "cell_type": "markdown",
   "metadata": {
    "dc": {
     "key": "4"
    },
    "deletable": false,
    "editable": false,
    "run_control": {
     "frozen": true
    },
    "tags": [
     "context"
    ]
   },
   "source": [
    "## 1. This patient may have sepsis\n",
    "<p>Sepsis is a deadly syndrome where a patient has a severe infection that causes organ failure. The sooner septic patients are treated, the more likely they are to survive, but sepsis can be challenging to recognize. It may be possible to use hospital data to develop machine learning models that could flag patients who are likely to be septic. However, before we develop predictive algorithms, we need a reliable method to determine patients who are septic. One component of sepsis is a severe infection.</p>\n",
    "<p>In this project, we will use two weeks of hospital electronic health record (EHR) data to find out which patients had a severe infection according to four criteria. We will look into the data to see if a doctor ordered a blood test to look for bacteria (a blood culture) and gave the patient a series of intervenous antibiotics. </p>\n",
    "<p>Let's get started!</p>"
   ]
  },
  {
   "cell_type": "code",
   "execution_count": 2,
   "metadata": {
    "collapsed": true,
    "dc": {
     "key": "4"
    },
    "tags": [
     "sample_code"
    ],
    "trusted": false
   },
   "outputs": [
    {
     "data": {
      "text/html": [
       "<div>\n",
       "<style scoped>\n",
       "    .dataframe tbody tr th:only-of-type {\n",
       "        vertical-align: middle;\n",
       "    }\n",
       "\n",
       "    .dataframe tbody tr th {\n",
       "        vertical-align: top;\n",
       "    }\n",
       "\n",
       "    .dataframe thead th {\n",
       "        text-align: right;\n",
       "    }\n",
       "</style>\n",
       "<table border=\"1\" class=\"dataframe\">\n",
       "  <thead>\n",
       "    <tr style=\"text-align: right;\">\n",
       "      <th></th>\n",
       "      <th>patient_id</th>\n",
       "      <th>day_given</th>\n",
       "      <th>antibiotic_type</th>\n",
       "      <th>route</th>\n",
       "    </tr>\n",
       "  </thead>\n",
       "  <tbody>\n",
       "    <tr>\n",
       "      <th>0</th>\n",
       "      <td>1</td>\n",
       "      <td>2</td>\n",
       "      <td>ciprofloxacin</td>\n",
       "      <td>IV</td>\n",
       "    </tr>\n",
       "    <tr>\n",
       "      <th>1</th>\n",
       "      <td>1</td>\n",
       "      <td>4</td>\n",
       "      <td>ciprofloxacin</td>\n",
       "      <td>IV</td>\n",
       "    </tr>\n",
       "    <tr>\n",
       "      <th>2</th>\n",
       "      <td>1</td>\n",
       "      <td>6</td>\n",
       "      <td>ciprofloxacin</td>\n",
       "      <td>IV</td>\n",
       "    </tr>\n",
       "    <tr>\n",
       "      <th>3</th>\n",
       "      <td>1</td>\n",
       "      <td>7</td>\n",
       "      <td>doxycycline</td>\n",
       "      <td>IV</td>\n",
       "    </tr>\n",
       "    <tr>\n",
       "      <th>4</th>\n",
       "      <td>1</td>\n",
       "      <td>9</td>\n",
       "      <td>doxycycline</td>\n",
       "      <td>IV</td>\n",
       "    </tr>\n",
       "    <tr>\n",
       "      <th>5</th>\n",
       "      <td>1</td>\n",
       "      <td>15</td>\n",
       "      <td>penicillin</td>\n",
       "      <td>IV</td>\n",
       "    </tr>\n",
       "    <tr>\n",
       "      <th>6</th>\n",
       "      <td>1</td>\n",
       "      <td>16</td>\n",
       "      <td>doxycycline</td>\n",
       "      <td>IV</td>\n",
       "    </tr>\n",
       "    <tr>\n",
       "      <th>7</th>\n",
       "      <td>1</td>\n",
       "      <td>18</td>\n",
       "      <td>ciprofloxacin</td>\n",
       "      <td>IV</td>\n",
       "    </tr>\n",
       "    <tr>\n",
       "      <th>8</th>\n",
       "      <td>8</td>\n",
       "      <td>1</td>\n",
       "      <td>doxycycline</td>\n",
       "      <td>PO</td>\n",
       "    </tr>\n",
       "    <tr>\n",
       "      <th>9</th>\n",
       "      <td>8</td>\n",
       "      <td>2</td>\n",
       "      <td>penicillin</td>\n",
       "      <td>IV</td>\n",
       "    </tr>\n",
       "    <tr>\n",
       "      <th>10</th>\n",
       "      <td>8</td>\n",
       "      <td>3</td>\n",
       "      <td>doxycycline</td>\n",
       "      <td>IV</td>\n",
       "    </tr>\n",
       "    <tr>\n",
       "      <th>11</th>\n",
       "      <td>8</td>\n",
       "      <td>6</td>\n",
       "      <td>doxycycline</td>\n",
       "      <td>PO</td>\n",
       "    </tr>\n",
       "    <tr>\n",
       "      <th>12</th>\n",
       "      <td>8</td>\n",
       "      <td>8</td>\n",
       "      <td>penicillin</td>\n",
       "      <td>PO</td>\n",
       "    </tr>\n",
       "    <tr>\n",
       "      <th>13</th>\n",
       "      <td>8</td>\n",
       "      <td>12</td>\n",
       "      <td>penicillin</td>\n",
       "      <td>IV</td>\n",
       "    </tr>\n",
       "    <tr>\n",
       "      <th>14</th>\n",
       "      <td>9</td>\n",
       "      <td>8</td>\n",
       "      <td>doxycycline</td>\n",
       "      <td>IV</td>\n",
       "    </tr>\n",
       "    <tr>\n",
       "      <th>15</th>\n",
       "      <td>9</td>\n",
       "      <td>12</td>\n",
       "      <td>doxycycline</td>\n",
       "      <td>PO</td>\n",
       "    </tr>\n",
       "    <tr>\n",
       "      <th>16</th>\n",
       "      <td>12</td>\n",
       "      <td>4</td>\n",
       "      <td>doxycycline</td>\n",
       "      <td>PO</td>\n",
       "    </tr>\n",
       "    <tr>\n",
       "      <th>17</th>\n",
       "      <td>12</td>\n",
       "      <td>9</td>\n",
       "      <td>doxycycline</td>\n",
       "      <td>IV</td>\n",
       "    </tr>\n",
       "    <tr>\n",
       "      <th>18</th>\n",
       "      <td>16</td>\n",
       "      <td>1</td>\n",
       "      <td>doxycycline</td>\n",
       "      <td>IV</td>\n",
       "    </tr>\n",
       "    <tr>\n",
       "      <th>19</th>\n",
       "      <td>16</td>\n",
       "      <td>4</td>\n",
       "      <td>amoxicillin</td>\n",
       "      <td>IV</td>\n",
       "    </tr>\n",
       "    <tr>\n",
       "      <th>20</th>\n",
       "      <td>19</td>\n",
       "      <td>3</td>\n",
       "      <td>doxycycline</td>\n",
       "      <td>PO</td>\n",
       "    </tr>\n",
       "    <tr>\n",
       "      <th>21</th>\n",
       "      <td>19</td>\n",
       "      <td>5</td>\n",
       "      <td>amoxicillin</td>\n",
       "      <td>IV</td>\n",
       "    </tr>\n",
       "    <tr>\n",
       "      <th>22</th>\n",
       "      <td>19</td>\n",
       "      <td>6</td>\n",
       "      <td>ciprofloxacin</td>\n",
       "      <td>IV</td>\n",
       "    </tr>\n",
       "    <tr>\n",
       "      <th>23</th>\n",
       "      <td>19</td>\n",
       "      <td>10</td>\n",
       "      <td>doxycycline</td>\n",
       "      <td>IV</td>\n",
       "    </tr>\n",
       "    <tr>\n",
       "      <th>24</th>\n",
       "      <td>19</td>\n",
       "      <td>12</td>\n",
       "      <td>penicillin</td>\n",
       "      <td>IV</td>\n",
       "    </tr>\n",
       "    <tr>\n",
       "      <th>25</th>\n",
       "      <td>23</td>\n",
       "      <td>1</td>\n",
       "      <td>doxycycline</td>\n",
       "      <td>IV</td>\n",
       "    </tr>\n",
       "    <tr>\n",
       "      <th>26</th>\n",
       "      <td>23</td>\n",
       "      <td>1</td>\n",
       "      <td>penicillin</td>\n",
       "      <td>IV</td>\n",
       "    </tr>\n",
       "    <tr>\n",
       "      <th>27</th>\n",
       "      <td>23</td>\n",
       "      <td>3</td>\n",
       "      <td>amoxicillin</td>\n",
       "      <td>IV</td>\n",
       "    </tr>\n",
       "    <tr>\n",
       "      <th>28</th>\n",
       "      <td>23</td>\n",
       "      <td>3</td>\n",
       "      <td>ciprofloxacin</td>\n",
       "      <td>IV</td>\n",
       "    </tr>\n",
       "    <tr>\n",
       "      <th>29</th>\n",
       "      <td>23</td>\n",
       "      <td>3</td>\n",
       "      <td>doxycycline</td>\n",
       "      <td>IV</td>\n",
       "    </tr>\n",
       "  </tbody>\n",
       "</table>\n",
       "</div>"
      ],
      "text/plain": [
       "    patient_id  day_given antibiotic_type route\n",
       "0            1          2   ciprofloxacin    IV\n",
       "1            1          4   ciprofloxacin    IV\n",
       "2            1          6   ciprofloxacin    IV\n",
       "3            1          7     doxycycline    IV\n",
       "4            1          9     doxycycline    IV\n",
       "5            1         15      penicillin    IV\n",
       "6            1         16     doxycycline    IV\n",
       "7            1         18   ciprofloxacin    IV\n",
       "8            8          1     doxycycline    PO\n",
       "9            8          2      penicillin    IV\n",
       "10           8          3     doxycycline    IV\n",
       "11           8          6     doxycycline    PO\n",
       "12           8          8      penicillin    PO\n",
       "13           8         12      penicillin    IV\n",
       "14           9          8     doxycycline    IV\n",
       "15           9         12     doxycycline    PO\n",
       "16          12          4     doxycycline    PO\n",
       "17          12          9     doxycycline    IV\n",
       "18          16          1     doxycycline    IV\n",
       "19          16          4     amoxicillin    IV\n",
       "20          19          3     doxycycline    PO\n",
       "21          19          5     amoxicillin    IV\n",
       "22          19          6   ciprofloxacin    IV\n",
       "23          19         10     doxycycline    IV\n",
       "24          19         12      penicillin    IV\n",
       "25          23          1     doxycycline    IV\n",
       "26          23          1      penicillin    IV\n",
       "27          23          3     amoxicillin    IV\n",
       "28          23          3   ciprofloxacin    IV\n",
       "29          23          3     doxycycline    IV"
      ]
     },
     "execution_count": 2,
     "metadata": {},
     "output_type": "execute_result"
    }
   ],
   "source": [
    "# Load packages\n",
    "import pandas as pd\n",
    "\n",
    "# Read in the data\n",
    "antibioticDT = pd.read_csv(\"datasets/antibioticDT.csv\")\n",
    "\n",
    "# Look at the first 30 rows\n",
    "antibioticDT.head(30)\n"
   ]
  },
  {
   "cell_type": "markdown",
   "metadata": {
    "dc": {
     "key": "11"
    },
    "deletable": false,
    "editable": false,
    "run_control": {
     "frozen": true
    },
    "tags": [
     "context"
    ]
   },
   "source": [
    "## 2. Which antibiotics are \"new\"?\n",
    "<p>These data represent all drugs administered in a hospital over two weeks. Each row represents one time a patient was given an antibiotic. The variables include the patient identification number, the day the drug was administered, the name of the antibiotic, and how it was administered. For example, patient \"8\" received doxycycline by mouth on the first day of their stay.</p>\n",
    "<p>We will identify patients with a serious infection using the following criteria. </p>\n",
    "<p><strong>Criteria for Suspected Infection</strong><a href=\"https://www.ncbi.nlm.nih.gov/pubmed/28903154\">*</a></p>\n",
    "<ol>\n",
    "<li>The patient receives antibiotics for a sequence of four days, with gaps of one day allowed.</li>\n",
    "<li>The sequence must start with a new antibiotic, defined as an antibiotic type that was not given in the previous two days.</li>\n",
    "<li>The sequence must start within two days of a blood culture.</li>\n",
    "<li>There must be at least one intervenous (I.V.) antibiotic within the +/-2 day window.</li>\n",
    "</ol>\n",
    "<p>Let's start with the second item by finding which rows represent \"new antibiotics\". We will determine if each antibiotic was given to the patient in the prior two days. We'll visualize this task by looking at the data sorted by id, antibiotic type, and day.</p>"
   ]
  },
  {
   "cell_type": "code",
   "execution_count": 9,
   "metadata": {
    "collapsed": true,
    "dc": {
     "key": "11"
    },
    "tags": [
     "sample_code"
    ],
    "trusted": false
   },
   "outputs": [],
   "source": [
    "# Sort the data and examine the first 40 rows\n",
    "# Use sort_values() instead of setorder() for Python\n",
    "antibioticDT_sorted = antibioticDT.sort_values(['patient_id', 'antibiotic_type', 'day_given']).reset_index(drop=True)\n",
    "antibioticDT_sorted.head(40)\n",
    "\n",
    "# Use shift to calculate the last day a particular drug was administered\n",
    "antibioticDT_sorted['last_administration_day'] = antibioticDT_sorted.groupby(['patient_id', 'antibiotic_type'])['day_given'].shift(1)\n",
    "\n",
    "# Calculate the number of days since the drug was last administered\n",
    "antibioticDT_sorted['days_since_last_admin'] = antibioticDT_sorted['day_given'] - antibioticDT_sorted['last_administration_day']\n",
    "\n",
    "# Create antibiotic_new with an initial value of one, then reset it to zero as needed\n",
    "antibioticDT_sorted['antibiotic_new'] = 1\n",
    "# Reset to zero if the drug was administered in the previous 2 days (1 or 2 days)\n",
    "antibioticDT_sorted.loc[(antibioticDT_sorted['days_since_last_admin'] <= 2) & (antibioticDT_sorted['days_since_last_admin'] >= 1), 'antibiotic_new'] = 0"
   ]
  },
  {
   "cell_type": "markdown",
   "metadata": {
    "dc": {
     "key": "18"
    },
    "deletable": false,
    "editable": false,
    "run_control": {
     "frozen": true
    },
    "tags": [
     "context"
    ]
   },
   "source": [
    "## 3. Looking at the blood culture data\n",
    "<p>Now let's look at blood culture data from the same two-week period in this hospital. These data are in <code>blood_cultureDT.csv</code>. Let's start by reading it into the workspace and having a look at a few rows. </p>\n",
    "<p>Each row represents one blood culture and gives the patient's id and the day the blood culture test occurred. For example, patient \"8\" had a blood culture on the second day of their hospitalization and again on the thirteenth day. Notice that some patients from the antibiotic dataset are not in this dataset and vice versa. Some patients are in neither because they received neither antibiotics nor a blood culture.</p>"
   ]
  },
  {
   "cell_type": "code",
   "execution_count": 10,
   "metadata": {
    "collapsed": true,
    "dc": {
     "key": "18"
    },
    "tags": [
     "sample_code"
    ],
    "trusted": false
   },
   "outputs": [
    {
     "data": {
      "text/html": [
       "<div>\n",
       "<style scoped>\n",
       "    .dataframe tbody tr th:only-of-type {\n",
       "        vertical-align: middle;\n",
       "    }\n",
       "\n",
       "    .dataframe tbody tr th {\n",
       "        vertical-align: top;\n",
       "    }\n",
       "\n",
       "    .dataframe thead th {\n",
       "        text-align: right;\n",
       "    }\n",
       "</style>\n",
       "<table border=\"1\" class=\"dataframe\">\n",
       "  <thead>\n",
       "    <tr style=\"text-align: right;\">\n",
       "      <th></th>\n",
       "      <th>patient_id</th>\n",
       "      <th>blood_culture_day</th>\n",
       "    </tr>\n",
       "  </thead>\n",
       "  <tbody>\n",
       "    <tr>\n",
       "      <th>0</th>\n",
       "      <td>1</td>\n",
       "      <td>3</td>\n",
       "    </tr>\n",
       "    <tr>\n",
       "      <th>1</th>\n",
       "      <td>1</td>\n",
       "      <td>13</td>\n",
       "    </tr>\n",
       "    <tr>\n",
       "      <th>2</th>\n",
       "      <td>8</td>\n",
       "      <td>2</td>\n",
       "    </tr>\n",
       "    <tr>\n",
       "      <th>3</th>\n",
       "      <td>8</td>\n",
       "      <td>13</td>\n",
       "    </tr>\n",
       "    <tr>\n",
       "      <th>4</th>\n",
       "      <td>23</td>\n",
       "      <td>3</td>\n",
       "    </tr>\n",
       "    <tr>\n",
       "      <th>5</th>\n",
       "      <td>39</td>\n",
       "      <td>10</td>\n",
       "    </tr>\n",
       "    <tr>\n",
       "      <th>6</th>\n",
       "      <td>45</td>\n",
       "      <td>4</td>\n",
       "    </tr>\n",
       "    <tr>\n",
       "      <th>7</th>\n",
       "      <td>45</td>\n",
       "      <td>9</td>\n",
       "    </tr>\n",
       "    <tr>\n",
       "      <th>8</th>\n",
       "      <td>45</td>\n",
       "      <td>11</td>\n",
       "    </tr>\n",
       "    <tr>\n",
       "      <th>9</th>\n",
       "      <td>51</td>\n",
       "      <td>3</td>\n",
       "    </tr>\n",
       "    <tr>\n",
       "      <th>10</th>\n",
       "      <td>51</td>\n",
       "      <td>6</td>\n",
       "    </tr>\n",
       "    <tr>\n",
       "      <th>11</th>\n",
       "      <td>59</td>\n",
       "      <td>2</td>\n",
       "    </tr>\n",
       "    <tr>\n",
       "      <th>12</th>\n",
       "      <td>64</td>\n",
       "      <td>1</td>\n",
       "    </tr>\n",
       "    <tr>\n",
       "      <th>13</th>\n",
       "      <td>66</td>\n",
       "      <td>9</td>\n",
       "    </tr>\n",
       "    <tr>\n",
       "      <th>14</th>\n",
       "      <td>66</td>\n",
       "      <td>10</td>\n",
       "    </tr>\n",
       "    <tr>\n",
       "      <th>15</th>\n",
       "      <td>69</td>\n",
       "      <td>2</td>\n",
       "    </tr>\n",
       "    <tr>\n",
       "      <th>16</th>\n",
       "      <td>69</td>\n",
       "      <td>6</td>\n",
       "    </tr>\n",
       "    <tr>\n",
       "      <th>17</th>\n",
       "      <td>69</td>\n",
       "      <td>7</td>\n",
       "    </tr>\n",
       "    <tr>\n",
       "      <th>18</th>\n",
       "      <td>69</td>\n",
       "      <td>11</td>\n",
       "    </tr>\n",
       "    <tr>\n",
       "      <th>19</th>\n",
       "      <td>69</td>\n",
       "      <td>16</td>\n",
       "    </tr>\n",
       "    <tr>\n",
       "      <th>20</th>\n",
       "      <td>76</td>\n",
       "      <td>1</td>\n",
       "    </tr>\n",
       "    <tr>\n",
       "      <th>21</th>\n",
       "      <td>77</td>\n",
       "      <td>3</td>\n",
       "    </tr>\n",
       "    <tr>\n",
       "      <th>22</th>\n",
       "      <td>79</td>\n",
       "      <td>5</td>\n",
       "    </tr>\n",
       "    <tr>\n",
       "      <th>23</th>\n",
       "      <td>79</td>\n",
       "      <td>11</td>\n",
       "    </tr>\n",
       "    <tr>\n",
       "      <th>24</th>\n",
       "      <td>79</td>\n",
       "      <td>12</td>\n",
       "    </tr>\n",
       "    <tr>\n",
       "      <th>25</th>\n",
       "      <td>80</td>\n",
       "      <td>3</td>\n",
       "    </tr>\n",
       "    <tr>\n",
       "      <th>26</th>\n",
       "      <td>80</td>\n",
       "      <td>12</td>\n",
       "    </tr>\n",
       "    <tr>\n",
       "      <th>27</th>\n",
       "      <td>81</td>\n",
       "      <td>2</td>\n",
       "    </tr>\n",
       "    <tr>\n",
       "      <th>28</th>\n",
       "      <td>112</td>\n",
       "      <td>6</td>\n",
       "    </tr>\n",
       "    <tr>\n",
       "      <th>29</th>\n",
       "      <td>115</td>\n",
       "      <td>2</td>\n",
       "    </tr>\n",
       "  </tbody>\n",
       "</table>\n",
       "</div>"
      ],
      "text/plain": [
       "    patient_id  blood_culture_day\n",
       "0            1                  3\n",
       "1            1                 13\n",
       "2            8                  2\n",
       "3            8                 13\n",
       "4           23                  3\n",
       "5           39                 10\n",
       "6           45                  4\n",
       "7           45                  9\n",
       "8           45                 11\n",
       "9           51                  3\n",
       "10          51                  6\n",
       "11          59                  2\n",
       "12          64                  1\n",
       "13          66                  9\n",
       "14          66                 10\n",
       "15          69                  2\n",
       "16          69                  6\n",
       "17          69                  7\n",
       "18          69                 11\n",
       "19          69                 16\n",
       "20          76                  1\n",
       "21          77                  3\n",
       "22          79                  5\n",
       "23          79                 11\n",
       "24          79                 12\n",
       "25          80                  3\n",
       "26          80                 12\n",
       "27          81                  2\n",
       "28         112                  6\n",
       "29         115                  2"
      ]
     },
     "execution_count": 10,
     "metadata": {},
     "output_type": "execute_result"
    }
   ],
   "source": [
    "# Read in blood_cultureDT.csv\n",
    "blood_cultureDT = pd.read_csv(\"datasets/blood_cultureDT.csv\")\n",
    "\n",
    "# Print the first 30 rows\n",
    "blood_cultureDT.head(30)"
   ]
  },
  {
   "cell_type": "markdown",
   "metadata": {
    "dc": {
     "key": "25"
    },
    "deletable": false,
    "editable": false,
    "run_control": {
     "frozen": true
    },
    "tags": [
     "context"
    ]
   },
   "source": [
    "## 4. Combine the antibiotic data and the blood culture data\n",
    "<p>To find which antibiotics were given close to a blood culture test, we need to combine the drug administration data with the blood culture data. We'll keep only patients that are still candidates for infection&mdash;only those in both data sets.</p>\n",
    "<p>A challenge with the data is that some patients had blood cultures on several different days. For each of those days, we will see if there is a sequence of antibiotic days close to them. To accomplish this, in the merge we will match each blood culture to each antibiotic day.</p>\n",
    "<p>After sorting the data following the merge, you will see that each patient's antibiotic sequence repeats for each blood culture day. This repetition allows us to look at each blood culture day and check if it is associated with a qualifying sequence of antibiotics.</p>"
   ]
  },
  {
   "cell_type": "code",
   "execution_count": 11,
   "metadata": {
    "collapsed": true,
    "dc": {
     "key": "25"
    },
    "tags": [
     "sample_code"
    ],
    "trusted": false
   },
   "outputs": [
    {
     "data": {
      "text/html": [
       "<div>\n",
       "<style scoped>\n",
       "    .dataframe tbody tr th:only-of-type {\n",
       "        vertical-align: middle;\n",
       "    }\n",
       "\n",
       "    .dataframe tbody tr th {\n",
       "        vertical-align: top;\n",
       "    }\n",
       "\n",
       "    .dataframe thead th {\n",
       "        text-align: right;\n",
       "    }\n",
       "</style>\n",
       "<table border=\"1\" class=\"dataframe\">\n",
       "  <thead>\n",
       "    <tr style=\"text-align: right;\">\n",
       "      <th></th>\n",
       "      <th>patient_id</th>\n",
       "      <th>day_given</th>\n",
       "      <th>antibiotic_type</th>\n",
       "      <th>route</th>\n",
       "      <th>blood_culture_day</th>\n",
       "    </tr>\n",
       "  </thead>\n",
       "  <tbody>\n",
       "    <tr>\n",
       "      <th>0</th>\n",
       "      <td>1</td>\n",
       "      <td>2</td>\n",
       "      <td>ciprofloxacin</td>\n",
       "      <td>IV</td>\n",
       "      <td>3</td>\n",
       "    </tr>\n",
       "    <tr>\n",
       "      <th>1</th>\n",
       "      <td>1</td>\n",
       "      <td>4</td>\n",
       "      <td>ciprofloxacin</td>\n",
       "      <td>IV</td>\n",
       "      <td>3</td>\n",
       "    </tr>\n",
       "    <tr>\n",
       "      <th>2</th>\n",
       "      <td>1</td>\n",
       "      <td>6</td>\n",
       "      <td>ciprofloxacin</td>\n",
       "      <td>IV</td>\n",
       "      <td>3</td>\n",
       "    </tr>\n",
       "    <tr>\n",
       "      <th>3</th>\n",
       "      <td>1</td>\n",
       "      <td>7</td>\n",
       "      <td>doxycycline</td>\n",
       "      <td>IV</td>\n",
       "      <td>3</td>\n",
       "    </tr>\n",
       "    <tr>\n",
       "      <th>4</th>\n",
       "      <td>1</td>\n",
       "      <td>9</td>\n",
       "      <td>doxycycline</td>\n",
       "      <td>IV</td>\n",
       "      <td>3</td>\n",
       "    </tr>\n",
       "    <tr>\n",
       "      <th>5</th>\n",
       "      <td>1</td>\n",
       "      <td>15</td>\n",
       "      <td>penicillin</td>\n",
       "      <td>IV</td>\n",
       "      <td>3</td>\n",
       "    </tr>\n",
       "    <tr>\n",
       "      <th>6</th>\n",
       "      <td>1</td>\n",
       "      <td>16</td>\n",
       "      <td>doxycycline</td>\n",
       "      <td>IV</td>\n",
       "      <td>3</td>\n",
       "    </tr>\n",
       "    <tr>\n",
       "      <th>7</th>\n",
       "      <td>1</td>\n",
       "      <td>18</td>\n",
       "      <td>ciprofloxacin</td>\n",
       "      <td>IV</td>\n",
       "      <td>3</td>\n",
       "    </tr>\n",
       "    <tr>\n",
       "      <th>8</th>\n",
       "      <td>1</td>\n",
       "      <td>2</td>\n",
       "      <td>ciprofloxacin</td>\n",
       "      <td>IV</td>\n",
       "      <td>13</td>\n",
       "    </tr>\n",
       "    <tr>\n",
       "      <th>9</th>\n",
       "      <td>1</td>\n",
       "      <td>4</td>\n",
       "      <td>ciprofloxacin</td>\n",
       "      <td>IV</td>\n",
       "      <td>13</td>\n",
       "    </tr>\n",
       "    <tr>\n",
       "      <th>10</th>\n",
       "      <td>1</td>\n",
       "      <td>6</td>\n",
       "      <td>ciprofloxacin</td>\n",
       "      <td>IV</td>\n",
       "      <td>13</td>\n",
       "    </tr>\n",
       "    <tr>\n",
       "      <th>11</th>\n",
       "      <td>1</td>\n",
       "      <td>7</td>\n",
       "      <td>doxycycline</td>\n",
       "      <td>IV</td>\n",
       "      <td>13</td>\n",
       "    </tr>\n",
       "    <tr>\n",
       "      <th>12</th>\n",
       "      <td>1</td>\n",
       "      <td>9</td>\n",
       "      <td>doxycycline</td>\n",
       "      <td>IV</td>\n",
       "      <td>13</td>\n",
       "    </tr>\n",
       "    <tr>\n",
       "      <th>13</th>\n",
       "      <td>1</td>\n",
       "      <td>15</td>\n",
       "      <td>penicillin</td>\n",
       "      <td>IV</td>\n",
       "      <td>13</td>\n",
       "    </tr>\n",
       "    <tr>\n",
       "      <th>14</th>\n",
       "      <td>1</td>\n",
       "      <td>16</td>\n",
       "      <td>doxycycline</td>\n",
       "      <td>IV</td>\n",
       "      <td>13</td>\n",
       "    </tr>\n",
       "    <tr>\n",
       "      <th>15</th>\n",
       "      <td>1</td>\n",
       "      <td>18</td>\n",
       "      <td>ciprofloxacin</td>\n",
       "      <td>IV</td>\n",
       "      <td>13</td>\n",
       "    </tr>\n",
       "    <tr>\n",
       "      <th>16</th>\n",
       "      <td>8</td>\n",
       "      <td>1</td>\n",
       "      <td>doxycycline</td>\n",
       "      <td>PO</td>\n",
       "      <td>2</td>\n",
       "    </tr>\n",
       "    <tr>\n",
       "      <th>17</th>\n",
       "      <td>8</td>\n",
       "      <td>2</td>\n",
       "      <td>penicillin</td>\n",
       "      <td>IV</td>\n",
       "      <td>2</td>\n",
       "    </tr>\n",
       "    <tr>\n",
       "      <th>18</th>\n",
       "      <td>8</td>\n",
       "      <td>3</td>\n",
       "      <td>doxycycline</td>\n",
       "      <td>IV</td>\n",
       "      <td>2</td>\n",
       "    </tr>\n",
       "    <tr>\n",
       "      <th>19</th>\n",
       "      <td>8</td>\n",
       "      <td>6</td>\n",
       "      <td>doxycycline</td>\n",
       "      <td>PO</td>\n",
       "      <td>2</td>\n",
       "    </tr>\n",
       "    <tr>\n",
       "      <th>20</th>\n",
       "      <td>8</td>\n",
       "      <td>8</td>\n",
       "      <td>penicillin</td>\n",
       "      <td>PO</td>\n",
       "      <td>2</td>\n",
       "    </tr>\n",
       "    <tr>\n",
       "      <th>21</th>\n",
       "      <td>8</td>\n",
       "      <td>12</td>\n",
       "      <td>penicillin</td>\n",
       "      <td>IV</td>\n",
       "      <td>2</td>\n",
       "    </tr>\n",
       "    <tr>\n",
       "      <th>22</th>\n",
       "      <td>8</td>\n",
       "      <td>1</td>\n",
       "      <td>doxycycline</td>\n",
       "      <td>PO</td>\n",
       "      <td>13</td>\n",
       "    </tr>\n",
       "    <tr>\n",
       "      <th>23</th>\n",
       "      <td>8</td>\n",
       "      <td>2</td>\n",
       "      <td>penicillin</td>\n",
       "      <td>IV</td>\n",
       "      <td>13</td>\n",
       "    </tr>\n",
       "    <tr>\n",
       "      <th>24</th>\n",
       "      <td>8</td>\n",
       "      <td>3</td>\n",
       "      <td>doxycycline</td>\n",
       "      <td>IV</td>\n",
       "      <td>13</td>\n",
       "    </tr>\n",
       "    <tr>\n",
       "      <th>25</th>\n",
       "      <td>8</td>\n",
       "      <td>6</td>\n",
       "      <td>doxycycline</td>\n",
       "      <td>PO</td>\n",
       "      <td>13</td>\n",
       "    </tr>\n",
       "    <tr>\n",
       "      <th>26</th>\n",
       "      <td>8</td>\n",
       "      <td>8</td>\n",
       "      <td>penicillin</td>\n",
       "      <td>PO</td>\n",
       "      <td>13</td>\n",
       "    </tr>\n",
       "    <tr>\n",
       "      <th>27</th>\n",
       "      <td>8</td>\n",
       "      <td>12</td>\n",
       "      <td>penicillin</td>\n",
       "      <td>IV</td>\n",
       "      <td>13</td>\n",
       "    </tr>\n",
       "    <tr>\n",
       "      <th>28</th>\n",
       "      <td>23</td>\n",
       "      <td>1</td>\n",
       "      <td>doxycycline</td>\n",
       "      <td>IV</td>\n",
       "      <td>3</td>\n",
       "    </tr>\n",
       "    <tr>\n",
       "      <th>29</th>\n",
       "      <td>23</td>\n",
       "      <td>1</td>\n",
       "      <td>penicillin</td>\n",
       "      <td>IV</td>\n",
       "      <td>3</td>\n",
       "    </tr>\n",
       "  </tbody>\n",
       "</table>\n",
       "</div>"
      ],
      "text/plain": [
       "    patient_id  day_given antibiotic_type route  blood_culture_day\n",
       "0            1          2   ciprofloxacin    IV                  3\n",
       "1            1          4   ciprofloxacin    IV                  3\n",
       "2            1          6   ciprofloxacin    IV                  3\n",
       "3            1          7     doxycycline    IV                  3\n",
       "4            1          9     doxycycline    IV                  3\n",
       "5            1         15      penicillin    IV                  3\n",
       "6            1         16     doxycycline    IV                  3\n",
       "7            1         18   ciprofloxacin    IV                  3\n",
       "8            1          2   ciprofloxacin    IV                 13\n",
       "9            1          4   ciprofloxacin    IV                 13\n",
       "10           1          6   ciprofloxacin    IV                 13\n",
       "11           1          7     doxycycline    IV                 13\n",
       "12           1          9     doxycycline    IV                 13\n",
       "13           1         15      penicillin    IV                 13\n",
       "14           1         16     doxycycline    IV                 13\n",
       "15           1         18   ciprofloxacin    IV                 13\n",
       "16           8          1     doxycycline    PO                  2\n",
       "17           8          2      penicillin    IV                  2\n",
       "18           8          3     doxycycline    IV                  2\n",
       "19           8          6     doxycycline    PO                  2\n",
       "20           8          8      penicillin    PO                  2\n",
       "21           8         12      penicillin    IV                  2\n",
       "22           8          1     doxycycline    PO                 13\n",
       "23           8          2      penicillin    IV                 13\n",
       "24           8          3     doxycycline    IV                 13\n",
       "25           8          6     doxycycline    PO                 13\n",
       "26           8          8      penicillin    PO                 13\n",
       "27           8         12      penicillin    IV                 13\n",
       "28          23          1     doxycycline    IV                  3\n",
       "29          23          1      penicillin    IV                  3"
      ]
     },
     "execution_count": 11,
     "metadata": {},
     "output_type": "execute_result"
    }
   ],
   "source": [
    "# Merge antibioticDT with blood_cultureDT\n",
    "# Use merge() to combine the datasets on patient_id\n",
    "combinedDT = antibioticDT.merge(blood_cultureDT, on='patient_id', how='inner')\n",
    "\n",
    "# Sort by patient_id, blood_culture_day, day_given, and antibiotic_type\n",
    "combinedDT = combinedDT.sort_values(['patient_id', 'blood_culture_day', 'day_given', 'antibiotic_type']).reset_index(drop=True)\n",
    "\n",
    "# Print and examine the first 30 rows\n",
    "combinedDT.head(30)"
   ]
  },
  {
   "cell_type": "markdown",
   "metadata": {
    "dc": {
     "key": "32"
    },
    "deletable": false,
    "editable": false,
    "run_control": {
     "frozen": true
    },
    "tags": [
     "context"
    ]
   },
   "source": [
    "## 5. Determine whether each row is in-window\n",
    "<p>Now that we have the antibiotic and blood culture data combined, we can test each drug administration against each blood culture to see if it's \"in the window.\"</p>"
   ]
  },
  {
   "cell_type": "code",
   "execution_count": 12,
   "metadata": {
    "collapsed": true,
    "dc": {
     "key": "32"
    },
    "tags": [
     "sample_code"
    ],
    "trusted": false
   },
   "outputs": [],
   "source": [
    "# Make a new variable called drug_in_bcx_window\n",
    "# Calculate the absolute difference between blood culture day and antibiotic day\n",
    "combinedDT['days_from_bc'] = abs(combinedDT['blood_culture_day'] - combinedDT['day_given'])\n",
    "\n",
    "# Create drug_in_bcx_window: 1 if within 2 days of blood culture, 0 otherwise\n",
    "combinedDT['drug_in_bcx_window'] = (combinedDT['days_from_bc'] <= 2).astype(int)"
   ]
  },
  {
   "cell_type": "markdown",
   "metadata": {
    "dc": {
     "key": "39"
    },
    "deletable": false,
    "editable": false,
    "run_control": {
     "frozen": true
    },
    "tags": [
     "context"
    ]
   },
   "source": [
    "## 6. Check the I.V. requirement\n",
    "<p>Now let's look at the fourth item in the criteria. </p>\n",
    "<p><strong>Criteria for Suspected Infection</strong><a href=\"https://www.ncbi.nlm.nih.gov/pubmed/28903154\">*</a></p>\n",
    "<ol>\n",
    "<li>The patient receives antibiotics for a sequence of four days, with gaps of one day allowed.</li>\n",
    "<li>The sequence must start with a new antibiotic, defined as an antibiotic type that was not given in the previous two days.</li>\n",
    "<li>The sequence must start within two days of a blood culture.</li>\n",
    "<li><em>There must be at least one intervenous (I.V.) antibiotic within the +/-2 day window.</em></li>\n",
    "</ol>"
   ]
  },
  {
   "cell_type": "code",
   "execution_count": 14,
   "metadata": {
    "collapsed": true,
    "dc": {
     "key": "39"
    },
    "tags": [
     "sample_code"
    ],
    "trusted": false
   },
   "outputs": [],
   "source": [
    "# Create a variable indicating if there was at least one I.V. drug given in the window\n",
    "# First, create a flag for IV drugs that are in the window\n",
    "combinedDT['iv_in_window'] = ((combinedDT['drug_in_bcx_window'] == 1) & (combinedDT['route'] == 'I.V.')).astype(int)\n",
    "\n",
    "# Group by patient and blood culture day to check if any IV drugs were given in the window\n",
    "combinedDT['iv_in_window_flag'] = combinedDT.groupby(['patient_id', 'blood_culture_day'])['iv_in_window'].transform('max')\n",
    "\n",
    "# Exclude rows in which the blood_culture_day does not have any I.V. drugs in window \n",
    "combinedDT = combinedDT[combinedDT['iv_in_window_flag'] == 1]"
   ]
  },
  {
   "cell_type": "markdown",
   "metadata": {
    "dc": {
     "key": "46"
    },
    "deletable": false,
    "editable": false,
    "run_control": {
     "frozen": true
    },
    "tags": [
     "context"
    ]
   },
   "source": [
    "## 7. Find the first day of possible sequences\n",
    "<p>We're getting close! Let's review the criteria again.</p>\n",
    "<p><strong>Criteria for Suspected Infection</strong><a href=\"https://www.ncbi.nlm.nih.gov/pubmed/28903154\">*</a></p>\n",
    "<ol>\n",
    "<li>The patient receives antibiotics for a sequence of four days, with gaps of one day allowed.</li>\n",
    "<li>The sequence must start with a new antibiotic, defined as an antibiotic type that was not given in the previous two days.</li>\n",
    "<li>The sequence must start within two days of a blood culture.</li>\n",
    "<li>There must be at least one intervenous (I.V.) antibiotic within the +/-2 day window.</li>\n",
    "</ol>\n",
    "<p>Let's assess the first criterion by finding the first day of possible 4-day qualifying sequences.    </p>"
   ]
  },
  {
   "cell_type": "code",
   "execution_count": 18,
   "metadata": {
    "collapsed": true,
    "dc": {
     "key": "46"
    },
    "tags": [
     "sample_code"
    ],
    "trusted": false
   },
   "outputs": [],
   "source": [
    "# Create a new variable called day_of_first_new_abx_in_window\n",
    "# First, we need to merge the antibiotic_new information from our sorted data\n",
    "combinedDT = combinedDT.merge(\n",
    "    antibioticDT_sorted[['patient_id', 'antibiotic_type', 'day_given', 'antibiotic_new']], \n",
    "    on=['patient_id', 'antibiotic_type', 'day_given'], \n",
    "    how='left'\n",
    ")\n",
    "\n",
    "# Create a flag for qualifying rows (in window AND new antibiotic)\n",
    "combinedDT['qualifying_row'] = (\n",
    "    (combinedDT['drug_in_bcx_window'] == 1) & \n",
    "    (combinedDT['antibiotic_new'] == 1)\n",
    ").astype(int)\n",
    "\n",
    "# Find the first qualifying day for each patient/blood culture combination\n",
    "first_days = (\n",
    "    combinedDT.loc[combinedDT['qualifying_row'] == 1]\n",
    "    .groupby(['patient_id', 'blood_culture_day'])['day_given']\n",
    "    .min()\n",
    "    .rename('day_of_first_new_abx_in_window')\n",
    "    .reset_index()\n",
    ")\n",
    "\n",
    "# Merge back the first qualifying day\n",
    "combinedDT = combinedDT.merge(first_days, on=['patient_id', 'blood_culture_day'], how='left')\n",
    "\n",
    "# Replace missing values with large number (999) for groups without qualifying rows\n",
    "combinedDT['day_of_first_new_abx_in_window'] = combinedDT['day_of_first_new_abx_in_window'].fillna(999)\n",
    "\n",
    "# Remove rows where the day is before this first qualifying day\n",
    "combinedDT = combinedDT[combinedDT['day_given'] >= combinedDT['day_of_first_new_abx_in_window']]\n"
   ]
  },
  {
   "cell_type": "markdown",
   "metadata": {
    "dc": {
     "key": "53"
    },
    "deletable": false,
    "editable": false,
    "run_control": {
     "frozen": true
    },
    "tags": [
     "context"
    ]
   },
   "source": [
    "## 8. Simplify the data\n",
    "<p>The first criterion is: <em>The patient receives antibiotics for a sequence of four days, with gaps of one day allowed.</em></p>\n",
    "<p>We've pinned down the first day of possible sequences in the previous task. Now we have to check for four-day sequences. We don't need the drug type (name); we need the days the antibiotics were administered.</p>"
   ]
  },
  {
   "cell_type": "code",
   "execution_count": 19,
   "metadata": {
    "collapsed": true,
    "dc": {
     "key": "53"
    },
    "tags": [
     "sample_code"
    ],
    "trusted": false
   },
   "outputs": [],
   "source": [
    "# Create a new data.table containing only patient_id, blood_culture_day, and day_given\n",
    "simplified_data = combinedDT[['patient_id', 'blood_culture_day', 'day_given']].copy()\n",
    "\n",
    "# Remove duplicate rows\n",
    "simplified_data = simplified_data.drop_duplicates()"
   ]
  },
  {
   "cell_type": "markdown",
   "metadata": {
    "dc": {
     "key": "60"
    },
    "deletable": false,
    "editable": false,
    "run_control": {
     "frozen": true
    },
    "tags": [
     "context"
    ]
   },
   "source": [
    "## 9. Extract first four rows for each blood culture\n",
    "<p>To check for four-day sequences, let's pull out the first four days (rows) for each patient/blood culture combination. Some patients will have less than four antibiotic days. We'll remove them first.</p>"
   ]
  },
  {
   "cell_type": "code",
   "execution_count": 20,
   "metadata": {
    "collapsed": true,
    "dc": {
     "key": "60"
    },
    "tags": [
     "sample_code"
    ],
    "trusted": false
   },
   "outputs": [],
   "source": [
    "# Count the antibiotic days within each patient/blood culture day combination\n",
    "# Group by patient and blood culture day, then count the number of unique antibiotic days\n",
    "day_counts = simplified_data.groupby(['patient_id', 'blood_culture_day']).size().reset_index(name='antibiotic_day_count')\n",
    "\n",
    "# Remove blood culture days with less than four rows \n",
    "simplified_data = simplified_data.merge(day_counts, on=['patient_id', 'blood_culture_day'], how='left')\n",
    "simplified_data = simplified_data[simplified_data['antibiotic_day_count'] >= 4]\n",
    "\n",
    "# Select the first four days for each blood culture\n",
    "first_four_days = simplified_data.groupby(['patient_id', 'blood_culture_day']).head(4) "
   ]
  },
  {
   "cell_type": "markdown",
   "metadata": {
    "dc": {
     "key": "67"
    },
    "deletable": false,
    "editable": false,
    "run_control": {
     "frozen": true
    },
    "tags": [
     "context"
    ]
   },
   "source": [
    "## 10. Consecutive sequence\n",
    "<p>Now we need to check whether each four-day sequence qualifies by having no gaps of more than one day.</p>\n",
    "<!--\"Patient receives antibiotics for a sequence of 4 days, with gaps of 1 day allowed.\"-->"
   ]
  },
  {
   "cell_type": "code",
   "execution_count": 25,
   "metadata": {
    "collapsed": true,
    "dc": {
     "key": "67"
    },
    "tags": [
     "sample_code"
    ],
    "trusted": false
   },
   "outputs": [],
   "source": [
    "# Make the indicator for consecutive sequence\n",
    "# Sort the first four days by day_given to ensure chronological order\n",
    "first_four_days = first_four_days.sort_values(\n",
    "    ['patient_id', 'blood_culture_day', 'day_given']\n",
    ").reset_index(drop=True)\n",
    "\n",
    "# Calculate the differences between consecutive days for each patient/blood culture combination\n",
    "first_four_days['day_diff'] = first_four_days.groupby(\n",
    "    ['patient_id', 'blood_culture_day']\n",
    ")['day_given'].diff()\n",
    "\n",
    "# Find which four-day sequences qualify\n",
    "# Use max() of the day_diff: if the maximum gap <= 1, then the sequence has no skips of more than one day\n",
    "four_in_seq = first_four_days.groupby(['patient_id', 'blood_culture_day'])['day_diff'].transform(\n",
    "    lambda x: 1 if x.dropna().max() <= 1 else 0\n",
    ")\n",
    "\n",
    "# Add the result directly as a new column\n",
    "first_four_days['four_in_seq'] = four_in_seq\n",
    "\n"
   ]
  },
  {
   "cell_type": "markdown",
   "metadata": {
    "dc": {
     "key": "74"
    },
    "deletable": false,
    "editable": false,
    "run_control": {
     "frozen": true
    },
    "tags": [
     "context"
    ]
   },
   "source": [
    "## 11. Select the patients who meet criteria\n",
    "<p>A patient would meet the criteria if any of their blood cultures were accompanied by a qualifying sequence of antibiotics. Now that we've determined which each blood culture qualify let's select the patients who meet the criteria.</p>"
   ]
  },
  {
   "cell_type": "code",
   "execution_count": 26,
   "metadata": {
    "collapsed": true,
    "dc": {
     "key": "74"
    },
    "tags": [
     "sample_code"
    ],
    "trusted": false
   },
   "outputs": [],
   "source": [
    "# Select the rows which have four_in_seq equal to 1\n",
    "suspected_infection = first_four_days[first_four_days['four_in_seq'] == 1]\n",
    "\n",
    "# Retain only the patient_id column\n",
    "suspected_infection = suspected_infection[['patient_id']]\n",
    "\n",
    "# Remove duplicates\n",
    "suspected_infection = suspected_infection.drop_duplicates()\n",
    "\n",
    "# Make an infection indicator\n",
    "suspected_infection['infection_indicator'] = 1"
   ]
  },
  {
   "cell_type": "markdown",
   "metadata": {
    "dc": {
     "key": "81"
    },
    "deletable": false,
    "editable": false,
    "run_control": {
     "frozen": true
    },
    "tags": [
     "context"
    ]
   },
   "source": [
    "## 12. Find the prevalence of sepsis\n",
    "<p>In this project, we used two EHR datasets to flag patients who were suspected of having a serious infection. We also got a <code>data.table</code> workout!</p>\n",
    "<p>So far, we've been looking at records of all antibiotics administered and blood cultures that occurred over two weeks at a particular hospital. However, not all patients who were hospitalized over this period are represented in <code>combinedDT</code> because not all of them took antibiotics or had blood culture tests. We have to read in and merge the rest of the patient information to see what percentage of patients at the hospital might have had a serious infection.</p>"
   ]
  },
  {
   "cell_type": "code",
   "execution_count": 27,
   "metadata": {
    "collapsed": true,
    "dc": {
     "key": "81"
    },
    "tags": [
     "sample_code"
    ],
    "trusted": false
   },
   "outputs": [
    {
     "name": "stdout",
     "output_type": "stream",
     "text": [
      "Percentage of patients with suspected infection: 0.00%\n"
     ]
    }
   ],
   "source": [
    "# Read in \"all_patients.csv\"\n",
    "all_patientsDT = pd.read_csv(\"datasets/all_patients.csv\")\n",
    "\n",
    "# Merge this with the infection flag data\n",
    "all_patientsDT = all_patientsDT.merge(suspected_infection, on='patient_id', how='left')\n",
    "\n",
    "# Set any missing values of the infection flag to 0\n",
    "all_patientsDT['infection_indicator'] = all_patientsDT['infection_indicator'].fillna(0)\n",
    "\n",
    "# Calculate the percentage of patients who met the criteria for presumed infection\n",
    "ans = (all_patientsDT['infection_indicator'].sum() / len(all_patientsDT)) * 100\n",
    "print(f\"Percentage of patients with suspected infection: {ans:.2f}%\")"
   ]
  },
  {
   "cell_type": "code",
   "execution_count": null,
   "metadata": {},
   "outputs": [],
   "source": []
  }
 ],
 "metadata": {
  "kernelspec": {
   "display_name": "base",
   "language": "python",
   "name": "python3"
  },
  "language_info": {
   "codemirror_mode": {
    "name": "ipython",
    "version": 3
   },
   "file_extension": ".py",
   "mimetype": "text/x-python",
   "name": "python",
   "nbconvert_exporter": "python",
   "pygments_lexer": "ipython3",
   "version": "3.13.5"
  }
 },
 "nbformat": 4,
 "nbformat_minor": 2
}
